{
 "cells": [
  {
   "cell_type": "code",
   "execution_count": 1,
   "metadata": {},
   "outputs": [],
   "source": [
    "import numpy as np\n",
    "import pandas as pd\n",
    "import matplotlib.pyplot as plt\n",
    "%matplotlib inline "
   ]
  },
  {
   "cell_type": "code",
   "execution_count": 2,
   "metadata": {},
   "outputs": [
    {
     "data": {
      "text/html": [
       "<div>\n",
       "<style scoped>\n",
       "    .dataframe tbody tr th:only-of-type {\n",
       "        vertical-align: middle;\n",
       "    }\n",
       "\n",
       "    .dataframe tbody tr th {\n",
       "        vertical-align: top;\n",
       "    }\n",
       "\n",
       "    .dataframe thead th {\n",
       "        text-align: right;\n",
       "    }\n",
       "</style>\n",
       "<table border=\"1\" class=\"dataframe\">\n",
       "  <thead>\n",
       "    <tr style=\"text-align: right;\">\n",
       "      <th></th>\n",
       "      <th>username</th>\n",
       "      <th>revid</th>\n",
       "      <th>revtime</th>\n",
       "      <th>pagetitle</th>\n",
       "      <th>isReverted</th>\n",
       "      <th>revertTime</th>\n",
       "      <th>cluebotRevert</th>\n",
       "      <th>stiki_score</th>\n",
       "      <th>stiki_REP_USER</th>\n",
       "    </tr>\n",
       "  </thead>\n",
       "  <tbody>\n",
       "    <tr>\n",
       "      <th>0</th>\n",
       "      <td>Alex12rocks</td>\n",
       "      <td>535937612</td>\n",
       "      <td>2013-01-31T23:19:17Z</td>\n",
       "      <td>Pueblo Revolt</td>\n",
       "      <td>True</td>\n",
       "      <td>2013-01-31T23:20:35Z</td>\n",
       "      <td>0</td>\n",
       "      <td>0.462073</td>\n",
       "      <td>0.000000</td>\n",
       "    </tr>\n",
       "    <tr>\n",
       "      <th>1</th>\n",
       "      <td>Alex12rocks</td>\n",
       "      <td>535937732</td>\n",
       "      <td>2013-01-31T23:20:04Z</td>\n",
       "      <td>Pueblo Revolt</td>\n",
       "      <td>True</td>\n",
       "      <td>2013-01-31T23:20:35Z</td>\n",
       "      <td>0</td>\n",
       "      <td>0.437085</td>\n",
       "      <td>0.000000</td>\n",
       "    </tr>\n",
       "    <tr>\n",
       "      <th>2</th>\n",
       "      <td>Alex12rocks</td>\n",
       "      <td>535937933</td>\n",
       "      <td>2013-01-31T23:21:19Z</td>\n",
       "      <td>Pueblo Revolt</td>\n",
       "      <td>True</td>\n",
       "      <td>2013-01-31T23:21:30Z</td>\n",
       "      <td>0</td>\n",
       "      <td>0.648625</td>\n",
       "      <td>0.999851</td>\n",
       "    </tr>\n",
       "    <tr>\n",
       "      <th>3</th>\n",
       "      <td>Alex12rocks</td>\n",
       "      <td>535938394</td>\n",
       "      <td>2013-01-31T23:24:08Z</td>\n",
       "      <td>Pueblo Revolt</td>\n",
       "      <td>True</td>\n",
       "      <td>2013-01-31T23:24:15Z</td>\n",
       "      <td>0</td>\n",
       "      <td>0.439547</td>\n",
       "      <td>1.999305</td>\n",
       "    </tr>\n",
       "    <tr>\n",
       "      <th>4</th>\n",
       "      <td>Alex12rocks</td>\n",
       "      <td>535938540</td>\n",
       "      <td>2013-01-31T23:24:56Z</td>\n",
       "      <td>Pueblo Revolt</td>\n",
       "      <td>True</td>\n",
       "      <td>2013-01-31T23:24:59Z</td>\n",
       "      <td>1</td>\n",
       "      <td>0.618692</td>\n",
       "      <td>2.998948</td>\n",
       "    </tr>\n",
       "  </tbody>\n",
       "</table>\n",
       "</div>"
      ],
      "text/plain": [
       "      username      revid               revtime      pagetitle  isReverted  \\\n",
       "0  Alex12rocks  535937612  2013-01-31T23:19:17Z  Pueblo Revolt        True   \n",
       "1  Alex12rocks  535937732  2013-01-31T23:20:04Z  Pueblo Revolt        True   \n",
       "2  Alex12rocks  535937933  2013-01-31T23:21:19Z  Pueblo Revolt        True   \n",
       "3  Alex12rocks  535938394  2013-01-31T23:24:08Z  Pueblo Revolt        True   \n",
       "4  Alex12rocks  535938540  2013-01-31T23:24:56Z  Pueblo Revolt        True   \n",
       "\n",
       "             revertTime  cluebotRevert  stiki_score  stiki_REP_USER  \n",
       "0  2013-01-31T23:20:35Z              0     0.462073        0.000000  \n",
       "1  2013-01-31T23:20:35Z              0     0.437085        0.000000  \n",
       "2  2013-01-31T23:21:30Z              0     0.648625        0.999851  \n",
       "3  2013-01-31T23:24:15Z              0     0.439547        1.999305  \n",
       "4  2013-01-31T23:24:59Z              1     0.618692        2.998948  "
      ]
     },
     "execution_count": 2,
     "metadata": {},
     "output_type": "execute_result"
    }
   ],
   "source": [
    "dfb1b = pd.read_csv('C:\\\\Users\\\\zliu15\\\\Desktop\\\\vews_dataset_v1.1\\\\benign_2013_1.csv')\n",
    "dfb2b = pd.read_csv('C:\\\\Users\\\\zliu15\\\\Desktop\\\\vews_dataset_v1.1\\\\benign_2013_2.csv')\n",
    "dfb3b = pd.read_csv('C:\\\\Users\\\\zliu15\\\\Desktop\\\\vews_dataset_v1.1\\\\benign_2013_3.csv')\n",
    "dfb4b = pd.read_csv('C:\\\\Users\\\\zliu15\\\\Desktop\\\\vews_dataset_v1.1\\\\benign_2013_4.csv')\n",
    "dfb5b = pd.read_csv('C:\\\\Users\\\\zliu15\\\\Desktop\\\\vews_dataset_v1.1\\\\benign_2013_5.csv')\n",
    "dfb6b = pd.read_csv('C:\\\\Users\\\\zliu15\\\\Desktop\\\\vews_dataset_v1.1\\\\benign_2013_6.csv')\n",
    "dfb7b = pd.read_csv('C:\\\\Users\\\\zliu15\\\\Desktop\\\\vews_dataset_v1.1\\\\benign_2013_7.csv')\n",
    "dfb8b = pd.read_csv('C:\\\\Users\\\\zliu15\\\\Desktop\\\\vews_dataset_v1.1\\\\benign_2013_8.csv')\n",
    "dfb9b = pd.read_csv('C:\\\\Users\\\\zliu15\\\\Desktop\\\\vews_dataset_v1.1\\\\benign_2013_9.csv')\n",
    "dfb10b = pd.read_csv('C:\\\\Users\\\\zliu15\\\\Desktop\\\\vews_dataset_v1.1\\\\benign_2013_10.csv')\n",
    "dfb11b = pd.read_csv('C:\\\\Users\\\\zliu15\\\\Desktop\\\\vews_dataset_v1.1\\\\benign_2013_11.csv')\n",
    "dfb12b = pd.read_csv('C:\\\\Users\\\\zliu15\\\\Desktop\\\\vews_dataset_v1.1\\\\benign_2013_12.csv')\n",
    "dfb13b = pd.read_csv('C:\\\\Users\\\\zliu15\\\\Desktop\\\\vews_dataset_v1.1\\\\benign_2014_1.csv')\n",
    "dfb14b = pd.read_csv('C:\\\\Users\\\\zliu15\\\\Desktop\\\\vews_dataset_v1.1\\\\benign_2014_2.csv')\n",
    "dfb15b = pd.read_csv('C:\\\\Users\\\\zliu15\\\\Desktop\\\\vews_dataset_v1.1\\\\benign_2014_3.csv')\n",
    "dfb16b = pd.read_csv('C:\\\\Users\\\\zliu15\\\\Desktop\\\\vews_dataset_v1.1\\\\benign_2014_4.csv')\n",
    "dfb17b = pd.read_csv('C:\\\\Users\\\\zliu15\\\\Desktop\\\\vews_dataset_v1.1\\\\benign_2014_5.csv')\n",
    "dfb18b = pd.read_csv('C:\\\\Users\\\\zliu15\\\\Desktop\\\\vews_dataset_v1.1\\\\benign_2014_6.csv')\n",
    "dfb19b = pd.read_csv('C:\\\\Users\\\\zliu15\\\\Desktop\\\\vews_dataset_v1.1\\\\benign_2014_7.csv')\n",
    "dfv1b = pd.read_csv('C:\\\\Users\\\\zliu15\\\\Desktop\\\\vews_dataset_v1.1\\\\vandal_2013_1.csv')\n",
    "dfv2b = pd.read_csv('C:\\\\Users\\\\zliu15\\\\Desktop\\\\vews_dataset_v1.1\\\\vandal_2013_2.csv')\n",
    "dfv3b = pd.read_csv('C:\\\\Users\\\\zliu15\\\\Desktop\\\\vews_dataset_v1.1\\\\vandal_2013_3.csv')\n",
    "dfv4b = pd.read_csv('C:\\\\Users\\\\zliu15\\\\Desktop\\\\vews_dataset_v1.1\\\\vandal_2013_4.csv')\n",
    "dfv5b = pd.read_csv('C:\\\\Users\\\\zliu15\\\\Desktop\\\\vews_dataset_v1.1\\\\vandal_2013_5.csv')\n",
    "dfv6b = pd.read_csv('C:\\\\Users\\\\zliu15\\\\Desktop\\\\vews_dataset_v1.1\\\\vandal_2013_6.csv')\n",
    "dfv7b = pd.read_csv('C:\\\\Users\\\\zliu15\\\\Desktop\\\\vews_dataset_v1.1\\\\vandal_2013_7.csv')\n",
    "dfv8b = pd.read_csv('C:\\\\Users\\\\zliu15\\\\Desktop\\\\vews_dataset_v1.1\\\\vandal_2013_8.csv')\n",
    "dfv9b = pd.read_csv('C:\\\\Users\\\\zliu15\\\\Desktop\\\\vews_dataset_v1.1\\\\vandal_2013_9.csv')\n",
    "dfv10b = pd.read_csv('C:\\\\Users\\\\zliu15\\\\Desktop\\\\vews_dataset_v1.1\\\\vandal_2013_10.csv')\n",
    "dfv11b = pd.read_csv('C:\\\\Users\\\\zliu15\\\\Desktop\\\\vews_dataset_v1.1\\\\vandal_2013_11.csv')\n",
    "dfv12b = pd.read_csv('C:\\\\Users\\\\zliu15\\\\Desktop\\\\vews_dataset_v1.1\\\\vandal_2013_12.csv')\n",
    "dfv13b = pd.read_csv('C:\\\\Users\\\\zliu15\\\\Desktop\\\\vews_dataset_v1.1\\\\vandal_2014_1.csv')\n",
    "dfv14b = pd.read_csv('C:\\\\Users\\\\zliu15\\\\Desktop\\\\vews_dataset_v1.1\\\\vandal_2014_2.csv')\n",
    "dfv15b = pd.read_csv('C:\\\\Users\\\\zliu15\\\\Desktop\\\\vews_dataset_v1.1\\\\vandal_2014_3.csv')\n",
    "dfv16b = pd.read_csv('C:\\\\Users\\\\zliu15\\\\Desktop\\\\vews_dataset_v1.1\\\\vandal_2014_4.csv')\n",
    "dfv17b = pd.read_csv('C:\\\\Users\\\\zliu15\\\\Desktop\\\\vews_dataset_v1.1\\\\vandal_2014_5.csv')\n",
    "dfv18b = pd.read_csv('C:\\\\Users\\\\zliu15\\\\Desktop\\\\vews_dataset_v1.1\\\\vandal_2014_6.csv')\n",
    "dfv19b = pd.read_csv('C:\\\\Users\\\\zliu15\\\\Desktop\\\\vews_dataset_v1.1\\\\vandal_2014_7.csv')\n",
    "\n",
    "\n",
    "boy = pd.concat([dfv1b, dfv2b, dfv3b,dfv4b,dfv5b,dfv6b,dfv7b,dfv8b,dfv9b,dfv10b,dfv11b,dfv12b,dfv13b,dfv14b,dfv15b,dfv16b,dfv17b,dfv18b,dfv19b], axis=0)\n",
    "boy.head()"
   ]
  },
  {
   "cell_type": "code",
   "execution_count": 3,
   "metadata": {},
   "outputs": [],
   "source": [
    "p = boy.pagetitle\n",
    "u = boy.username"
   ]
  },
  {
   "cell_type": "code",
   "execution_count": 4,
   "metadata": {},
   "outputs": [],
   "source": [
    "p = p.reset_index(drop = True)\n",
    "u = u.reset_index(drop = True)"
   ]
  },
  {
   "cell_type": "code",
   "execution_count": 6,
   "metadata": {},
   "outputs": [],
   "source": [
    "boy_1 = pd.read_csv('C:\\\\Users\\\\zliu15\\\\Desktop\\\\boy_1.csv')"
   ]
  },
  {
   "cell_type": "code",
   "execution_count": 7,
   "metadata": {},
   "outputs": [],
   "source": [
    "p_1 = boy_1.pagetitle\n",
    "u_1 = boy_1.username"
   ]
  },
  {
   "cell_type": "code",
   "execution_count": 8,
   "metadata": {},
   "outputs": [],
   "source": [
    "p_1 = p_1.reset_index(drop = True)\n",
    "u_1 = u_1.reset_index(drop = True)"
   ]
  },
  {
   "cell_type": "code",
   "execution_count": 9,
   "metadata": {},
   "outputs": [
    {
     "data": {
      "text/plain": [
       "146522"
      ]
     },
     "execution_count": 9,
     "metadata": {},
     "output_type": "execute_result"
    }
   ],
   "source": [
    "n = len(p_1)\n",
    "n"
   ]
  },
  {
   "cell_type": "code",
   "execution_count": 10,
   "metadata": {},
   "outputs": [],
   "source": [
    "def use():\n",
    "    count = 1\n",
    "    for i in range(n-1):        \n",
    "        if (p_1[i] == p_1[i+1]):\n",
    "            count += 1\n",
    "        else:\n",
    "            if (count > 100):\n",
    "                print('Pagetitle:', p_1[i],'-',count)\n",
    "            count = 1   "
   ]
  },
  {
   "cell_type": "code",
   "execution_count": 11,
   "metadata": {},
   "outputs": [
    {
     "name": "stdout",
     "output_type": "stream",
     "text": [
      "Pagetitle: Bad Girls Club (season 1) - 122\n",
      "Pagetitle: Bad Girls Club (season 10) - 187\n",
      "Pagetitle: Bad Girls Club (season 11) - 125\n",
      "Pagetitle: Bad Girls Club (season 2) - 146\n",
      "Pagetitle: Bad Girls Club (season 4) - 119\n",
      "Pagetitle: Bad Girls Club (season 5) - 161\n",
      "Pagetitle: Bad Girls Club (season 6) - 267\n",
      "Pagetitle: Bad Girls Club (season 7) - 319\n",
      "Pagetitle: Bad Girls Club (season 8) - 205\n",
      "Pagetitle: Bad Girls Club (season 9) - 155\n",
      "Pagetitle: Iron Man in film - 128\n",
      "Pagetitle: Khanpur Ahir - 101\n",
      "Pagetitle: List of Dani's Castle episodes - 128\n",
      "Pagetitle: Nanyang Polytechnic - 128\n",
      "Pagetitle: User talk:Evlekis - 114\n",
      "Pagetitle: User talk:Nishidani - 106\n",
      "Pagetitle: User talk:PuffCJMurder123 - 302\n",
      "Pagetitle: User talk:TreCoolGuy - 235\n",
      "Pagetitle: User:Survivorfan1995/sandbox - 207\n",
      "Pagetitle: User:Wilson888/sandbox - 264\n",
      "Pagetitle: Wikipedia:Administrator intervention against vandalism - 145\n",
      "Pagetitle: Wikipedia:Administrators' noticeboard/Incidents - 105\n",
      "Pagetitle: Wikipedia:Edit filter/False positives/Reports - 144\n",
      "Pagetitle: Wikipedia:Sandbox - 321\n"
     ]
    }
   ],
   "source": [
    "use()"
   ]
  },
  {
   "cell_type": "code",
   "execution_count": 12,
   "metadata": {},
   "outputs": [
    {
     "data": {
      "text/html": [
       "<div>\n",
       "<style scoped>\n",
       "    .dataframe tbody tr th:only-of-type {\n",
       "        vertical-align: middle;\n",
       "    }\n",
       "\n",
       "    .dataframe tbody tr th {\n",
       "        vertical-align: top;\n",
       "    }\n",
       "\n",
       "    .dataframe thead th {\n",
       "        text-align: right;\n",
       "    }\n",
       "</style>\n",
       "<table border=\"1\" class=\"dataframe\">\n",
       "  <thead>\n",
       "    <tr style=\"text-align: right;\">\n",
       "      <th></th>\n",
       "      <th>pagetitle,pageid,pagecategories</th>\n",
       "    </tr>\n",
       "  </thead>\n",
       "  <tbody>\n",
       "    <tr>\n",
       "      <th>count</th>\n",
       "      <td>226832</td>\n",
       "    </tr>\n",
       "    <tr>\n",
       "      <th>unique</th>\n",
       "      <td>220009</td>\n",
       "    </tr>\n",
       "    <tr>\n",
       "      <th>top</th>\n",
       "      <td>Sonic Drive-In,305493,\"set([u'Category:Compani...</td>\n",
       "    </tr>\n",
       "    <tr>\n",
       "      <th>freq</th>\n",
       "      <td>2</td>\n",
       "    </tr>\n",
       "  </tbody>\n",
       "</table>\n",
       "</div>"
      ],
      "text/plain": [
       "                          pagetitle,pageid,pagecategories\n",
       "count                                              226832\n",
       "unique                                             220009\n",
       "top     Sonic Drive-In,305493,\"set([u'Category:Compani...\n",
       "freq                                                    2"
      ]
     },
     "execution_count": 12,
     "metadata": {},
     "output_type": "execute_result"
    }
   ],
   "source": [
    "girl = pd.read_table('C:\\\\Users\\\\zliu15\\\\Desktop\\\\vews_dataset_v1.1\\\\pages.tsv', sep='\\t', header=0)\n",
    "girl.describe()"
   ]
  },
  {
   "cell_type": "code",
   "execution_count": 14,
   "metadata": {},
   "outputs": [
    {
     "name": "stderr",
     "output_type": "stream",
     "text": [
      "D:\\anaconda3\\lib\\site-packages\\gensim\\utils.py:1197: UserWarning: detected Windows; aliasing chunkize to chunkize_serial\n",
      "  warnings.warn(\"detected Windows; aliasing chunkize to chunkize_serial\")\n"
     ]
    }
   ],
   "source": [
    "import gensim\n",
    "\n",
    "kmodel = gensim.models.KeyedVectors.load_word2vec_format('C:\\\\Users\\\\zliu15\\\\Desktop\\\\GoogleNews-vectors-negative300.bin', binary=True)  "
   ]
  },
  {
   "cell_type": "code",
   "execution_count": 15,
   "metadata": {},
   "outputs": [
    {
     "data": {
      "text/plain": [
       "0.3455700513001896"
      ]
     },
     "execution_count": 15,
     "metadata": {},
     "output_type": "execute_result"
    }
   ],
   "source": [
    "kmodel.similarity('television','film')"
   ]
  },
  {
   "cell_type": "code",
   "execution_count": 16,
   "metadata": {},
   "outputs": [
    {
     "data": {
      "text/plain": [
       "-0.014216255319538957"
      ]
     },
     "execution_count": 16,
     "metadata": {},
     "output_type": "execute_result"
    }
   ],
   "source": [
    "kmodel.similarity('article','television')"
   ]
  },
  {
   "cell_type": "code",
   "execution_count": 17,
   "metadata": {},
   "outputs": [
    {
     "data": {
      "text/plain": [
       "-0.007459835392615497"
      ]
     },
     "execution_count": 17,
     "metadata": {},
     "output_type": "execute_result"
    }
   ],
   "source": [
    "kmodel.similarity('television','singapore')"
   ]
  },
  {
   "cell_type": "code",
   "execution_count": 18,
   "metadata": {},
   "outputs": [
    {
     "data": {
      "text/plain": [
       "0.07521059196576935"
      ]
     },
     "execution_count": 18,
     "metadata": {},
     "output_type": "execute_result"
    }
   ],
   "source": [
    "kmodel.similarity('television','pages')"
   ]
  },
  {
   "cell_type": "code",
   "execution_count": 19,
   "metadata": {},
   "outputs": [
    {
     "data": {
      "text/plain": [
       "-0.05434764674863852"
      ]
     },
     "execution_count": 19,
     "metadata": {},
     "output_type": "execute_result"
    }
   ],
   "source": [
    "kmodel.similarity('television','project')"
   ]
  },
  {
   "cell_type": "code",
   "execution_count": 20,
   "metadata": {},
   "outputs": [
    {
     "data": {
      "text/plain": [
       "0.15472376598665832"
      ]
     },
     "execution_count": 20,
     "metadata": {},
     "output_type": "execute_result"
    }
   ],
   "source": [
    "kmodel.similarity('singapore','automatically')"
   ]
  },
  {
   "cell_type": "code",
   "execution_count": 21,
   "metadata": {},
   "outputs": [
    {
     "data": {
      "text/plain": [
       "0.10407934120001155"
      ]
     },
     "execution_count": 21,
     "metadata": {},
     "output_type": "execute_result"
    }
   ],
   "source": [
    "kmodel.similarity('citations','project')"
   ]
  },
  {
   "cell_type": "code",
   "execution_count": 22,
   "metadata": {},
   "outputs": [
    {
     "data": {
      "text/plain": [
       "0.16170739651102248"
      ]
     },
     "execution_count": 22,
     "metadata": {},
     "output_type": "execute_result"
    }
   ],
   "source": [
    "kmodel.similarity('film','article')"
   ]
  },
  {
   "cell_type": "code",
   "execution_count": 23,
   "metadata": {},
   "outputs": [
    {
     "data": {
      "text/plain": [
       "0.21220089690818372"
      ]
     },
     "execution_count": 23,
     "metadata": {},
     "output_type": "execute_result"
    }
   ],
   "source": [
    "kmodel.similarity('pages','citations')"
   ]
  },
  {
   "cell_type": "code",
   "execution_count": 24,
   "metadata": {},
   "outputs": [
    {
     "data": {
      "text/plain": [
       "0.307631365357131"
      ]
     },
     "execution_count": 24,
     "metadata": {},
     "output_type": "execute_result"
    }
   ],
   "source": [
    "kmodel.similarity('article','pages')"
   ]
  },
  {
   "cell_type": "code",
   "execution_count": 25,
   "metadata": {},
   "outputs": [
    {
     "data": {
      "text/plain": [
       "0.09075953426884734"
      ]
     },
     "execution_count": 25,
     "metadata": {},
     "output_type": "execute_result"
    }
   ],
   "source": [
    "kmodel.similarity('automatically','citations')"
   ]
  },
  {
   "cell_type": "code",
   "execution_count": 297,
   "metadata": {},
   "outputs": [],
   "source": [
    "from matplotlib import cm \n",
    "\n",
    "from matplotlib import axes\n",
    "\n",
    "def draw_heatmap(data,xlabels,ylabels):\n",
    "\n",
    "    #cmap = cm.Blues   \n",
    "    cmap = cm.get_cmap('rainbow')\n",
    "\n",
    "    figure=plt.figure(facecolor='w',figsize = (20, 20))\n",
    "\n",
    "\n",
    "    ax=figure.add_subplot(2,1,1,position=[0.1,0.15,0.8,0.8])\n",
    "\n",
    "    ax.set_yticks(range(len(ylabels)))\n",
    "\n",
    "    ax.set_yticklabels(ylabels)\n",
    "\n",
    "    ax.set_xticks(range(len(xlabels)))\n",
    "\n",
    "    ax.set_xticklabels(xlabels)\n",
    "    ax.set_title('Similarity of semantic matrix for vandal editing', fontsize=15)\n",
    "\n",
    "    vmax=data[0][0]\n",
    "\n",
    "    vmin=data[0][0]\n",
    "\n",
    "    for i in data:\n",
    "\n",
    "        for j in i:\n",
    "\n",
    "            if j>vmax:\n",
    "\n",
    "                vmax=j\n",
    "\n",
    "            if j<vmin:\n",
    "\n",
    "                vmin=j\n",
    "\n",
    "    map=ax.imshow(data,interpolation='nearest',cmap=cmap,aspect='auto',vmin=vmin,vmax=vmax)\n",
    "\n",
    "    cb=plt.colorbar(mappable=map,cax=None,ax=None,shrink=0.5)\n",
    "\n",
    "    plt.show()"
   ]
  },
  {
   "cell_type": "code",
   "execution_count": 298,
   "metadata": {},
   "outputs": [
    {
     "data": {
      "image/png": "[encoded data removed]",
      "text/plain": [
       "<matplotlib.figure.Figure at 0x1bbdff6d978>"
      ]
     },
     "metadata": {},
     "output_type": "display_data"
    }
   ],
   "source": [
    "a=[[1,1,1,1,1,1,1,1,1,1,0.35,-0.01,1,-0.007,0.075,0.075,0.075,-0.054,0.034,-0.034],\n",
    "   [1,1,1,1,1,1,1,1,1,1,0.35,-0.01,1,-0.007,0.075,0.075,0.075,-0.054,0.034,-0.034],\n",
    "   [1,1,1,1,1,1,1,1,1,1,0.35,-0.01,1,-0.007,0.075,0.075,0.075,-0.054,0.034,-0.034],\n",
    "   [1,1,1,1,1,1,1,1,1,1,0.35,-0.01,1,-0.007,0.075,0.075,0.075,-0.054,0.034,-0.034],\n",
    "   [1,1,1,1,1,1,1,1,1,1,0.35,-0.01,1,-0.007,0.075,0.075,0.075,-0.054,0.034,-0.034],\n",
    "   [1,1,1,1,1,1,1,1,1,1,0.35,-0.01,1,-0.007,0.075,0.075,0.075,-0.054,0.034,-0.034],\n",
    "   [1,1,1,1,1,1,1,1,1,1,0.35,-0.01,1,-0.007,0.075,0.075,0.075,-0.054,0.034,-0.034],\n",
    "   [1,1,1,1,1,1,1,1,1,1,0.35,-0.01,1,-0.007,0.075,0.075,0.075,-0.054,0.034,-0.034],\n",
    "   [1,1,1,1,1,1,1,1,1,1,0.35,-0.01,1,-0.007,0.075,0.075,0.075,-0.054,0.034,-0.034],\n",
    "   [1,1,1,1,1,1,1,1,1,1,0.35,-0.01,1,-0.007,0.075,0.075,0.075,-0.054,0.034,-0.034],\n",
    "   [0.35,0.35,0.35,0.35,0.35,0.35,0.35,0.35,0.35,0.35,1,0.16,0.35,-0.041,0.048,0.048,0.048,0.205,-0.0183,0.0229],\n",
    "   [-0.014,-0.014,-0.014,-0.014,-0.014,-0.014,-0.014,-0.014,-0.014,-0.014,0.16,1,-0.014,0.075,0.31,0.31,0.31,0.11,0.013,0.14],\n",
    "   [1,1,1,1,1,1,1,1,1,1,0.35,-0.01,1,-0.007,0.075,0.075,0.075,-0.054,0.034,-0.034],\n",
    "   [-0.01,-0.01,-0.01,-0.01,-0.01,-0.01,-0.01,-0.01,-0.01,-0.01,-0.04,0.08,-0.01,1,0.07,0.07,0.07,-0.08,0.15,0.02],\n",
    "   [0.08,0.08,0.08,0.08,0.08,0.08,0.08,0.08,0.08,0.08,0.05,0.31,0.08,0.07,1,1,1,0.02,0.15,0.21],\n",
    "   [0.08,0.08,0.08,0.08,0.08,0.08,0.08,0.08,0.08,0.08,0.05,0.31,0.08,0.07,1,1,1,0.02,0.15,0.21],\n",
    "   [0.08,0.08,0.08,0.08,0.08,0.08,0.08,0.08,0.08,0.08,0.05,0.31,0.08,0.07,1,1,1,0.02,0.15,0.21],\n",
    "   [-0.05,-0.05,-0.05,-0.05,-0.05,-0.05,-0.05,-0.05,-0.05,-0.05,0.21,0.11,-0.05,-0.08,0.02,0.02,0.02,1,-0.02,0.1],\n",
    "   [0.03,0.03,0.03,0.03,0.03,0.03,0.03,0.03,0.03,0.03,-0.01,0.01,0.03,0.15,0.15,0.15,0.15,-0.03,1,0.09],\n",
    "   [-0.03,-0.03,-0.03,-0.03,-0.03,-0.03,-0.03,-0.03,-0.03,-0.03,0.02,0.14,-0.03,0.02,0.21,0.21,0.21,0.1,0.09,1]\n",
    "   ]\n",
    "\n",
    "xlabels=['p1','p2','p3','p4','p5','p6','p7','p8','p9','p10','p11','p12','p13','p14','p15','p16','p17','p18','p19','p20']\n",
    "\n",
    "ylabels=['p1','p2','p3','p4','p5','p6','p7','p8','p9','p10','p11','p12','p13','p14','p15','p16','p17','p18','p19','p20']\n",
    "\n",
    "draw_heatmap(a,xlabels,ylabels)"
   ]
  },
  {
   "cell_type": "code",
   "execution_count": 29,
   "metadata": {},
   "outputs": [
    {
     "data": {
      "text/html": [
       "<div>\n",
       "<style scoped>\n",
       "    .dataframe tbody tr th:only-of-type {\n",
       "        vertical-align: middle;\n",
       "    }\n",
       "\n",
       "    .dataframe tbody tr th {\n",
       "        vertical-align: top;\n",
       "    }\n",
       "\n",
       "    .dataframe thead th {\n",
       "        text-align: right;\n",
       "    }\n",
       "</style>\n",
       "<table border=\"1\" class=\"dataframe\">\n",
       "  <thead>\n",
       "    <tr style=\"text-align: right;\">\n",
       "      <th></th>\n",
       "      <th>username</th>\n",
       "      <th>revid</th>\n",
       "      <th>revtime</th>\n",
       "      <th>pagetitle</th>\n",
       "      <th>isReverted</th>\n",
       "      <th>revertTime</th>\n",
       "      <th>cluebotRevert</th>\n",
       "      <th>stiki_score</th>\n",
       "      <th>stiki_REP_USER</th>\n",
       "    </tr>\n",
       "  </thead>\n",
       "  <tbody>\n",
       "    <tr>\n",
       "      <th>0</th>\n",
       "      <td>Swiftscw</td>\n",
       "      <td>535365129</td>\n",
       "      <td>2013-01-28T16:43:56Z</td>\n",
       "      <td>User:Swiftscw</td>\n",
       "      <td>False</td>\n",
       "      <td>-</td>\n",
       "      <td>0</td>\n",
       "      <td>0.0</td>\n",
       "      <td>0.0</td>\n",
       "    </tr>\n",
       "    <tr>\n",
       "      <th>1</th>\n",
       "      <td>Swiftscw</td>\n",
       "      <td>535365309</td>\n",
       "      <td>2013-01-28T16:45:08Z</td>\n",
       "      <td>User:Swiftscw</td>\n",
       "      <td>False</td>\n",
       "      <td>-</td>\n",
       "      <td>0</td>\n",
       "      <td>0.0</td>\n",
       "      <td>0.0</td>\n",
       "    </tr>\n",
       "    <tr>\n",
       "      <th>2</th>\n",
       "      <td>Swiftscw</td>\n",
       "      <td>535366071</td>\n",
       "      <td>2013-01-28T16:50:17Z</td>\n",
       "      <td>User:Swiftscw</td>\n",
       "      <td>False</td>\n",
       "      <td>-</td>\n",
       "      <td>0</td>\n",
       "      <td>0.0</td>\n",
       "      <td>0.0</td>\n",
       "    </tr>\n",
       "    <tr>\n",
       "      <th>3</th>\n",
       "      <td>Swiftscw</td>\n",
       "      <td>535369287</td>\n",
       "      <td>2013-01-28T17:13:40Z</td>\n",
       "      <td>User:Swiftscw/AMAPOLA CABASE</td>\n",
       "      <td>False</td>\n",
       "      <td>-</td>\n",
       "      <td>0</td>\n",
       "      <td>0.0</td>\n",
       "      <td>0.0</td>\n",
       "    </tr>\n",
       "    <tr>\n",
       "      <th>4</th>\n",
       "      <td>Swiftscw</td>\n",
       "      <td>535370277</td>\n",
       "      <td>2013-01-28T17:21:30Z</td>\n",
       "      <td>Wikipedia:Requests for undeletion</td>\n",
       "      <td>False</td>\n",
       "      <td>-</td>\n",
       "      <td>0</td>\n",
       "      <td>0.0</td>\n",
       "      <td>0.0</td>\n",
       "    </tr>\n",
       "  </tbody>\n",
       "</table>\n",
       "</div>"
      ],
      "text/plain": [
       "   username      revid               revtime  \\\n",
       "0  Swiftscw  535365129  2013-01-28T16:43:56Z   \n",
       "1  Swiftscw  535365309  2013-01-28T16:45:08Z   \n",
       "2  Swiftscw  535366071  2013-01-28T16:50:17Z   \n",
       "3  Swiftscw  535369287  2013-01-28T17:13:40Z   \n",
       "4  Swiftscw  535370277  2013-01-28T17:21:30Z   \n",
       "\n",
       "                           pagetitle  isReverted revertTime  cluebotRevert  \\\n",
       "0                      User:Swiftscw       False          -              0   \n",
       "1                      User:Swiftscw       False          -              0   \n",
       "2                      User:Swiftscw       False          -              0   \n",
       "3       User:Swiftscw/AMAPOLA CABASE       False          -              0   \n",
       "4  Wikipedia:Requests for undeletion       False          -              0   \n",
       "\n",
       "   stiki_score  stiki_REP_USER  \n",
       "0          0.0             0.0  \n",
       "1          0.0             0.0  \n",
       "2          0.0             0.0  \n",
       "3          0.0             0.0  \n",
       "4          0.0             0.0  "
      ]
     },
     "execution_count": 29,
     "metadata": {},
     "output_type": "execute_result"
    }
   ],
   "source": [
    "girl = pd.concat([dfb1b, dfb2b, dfb3b,dfb4b,dfb5b,dfb6b,dfb7b,dfb8b,dfb9b,dfb10b,dfb11b,dfb12b,dfb13b,dfb14b,dfb15b,dfb16b,dfb17b,dfb18b,dfb19b], axis=0)\n",
    "girl.head()"
   ]
  },
  {
   "cell_type": "code",
   "execution_count": 30,
   "metadata": {},
   "outputs": [],
   "source": [
    "girl.to_csv('C:\\\\Users\\\\zliu15\\\\Desktop\\\\vews_dataset_v1.1\\\\girl.csv')"
   ]
  },
  {
   "cell_type": "code",
   "execution_count": 31,
   "metadata": {},
   "outputs": [],
   "source": [
    "girl_1 = pd.read_csv('C:\\\\Users\\\\zliu15\\\\Desktop\\\\girl_1.csv')"
   ]
  },
  {
   "cell_type": "code",
   "execution_count": 33,
   "metadata": {},
   "outputs": [],
   "source": [
    "p_2 = girl_1.pagetitle\n",
    "u_2 = girl_1.username"
   ]
  },
  {
   "cell_type": "code",
   "execution_count": 34,
   "metadata": {},
   "outputs": [],
   "source": [
    "p_2 = p_2.reset_index(drop = True)\n",
    "u_2 = u_2.reset_index(drop = True)"
   ]
  },
  {
   "cell_type": "code",
   "execution_count": 35,
   "metadata": {},
   "outputs": [
    {
     "data": {
      "text/plain": [
       "610422"
      ]
     },
     "execution_count": 35,
     "metadata": {},
     "output_type": "execute_result"
    }
   ],
   "source": [
    "n = len(p_2)\n",
    "n"
   ]
  },
  {
   "cell_type": "code",
   "execution_count": 42,
   "metadata": {},
   "outputs": [],
   "source": [
    "def use_1():\n",
    "    count = 1\n",
    "    for i in range(n-1):        \n",
    "        if (p_2[i] == p_2[i+1]):\n",
    "            count += 1\n",
    "        else:\n",
    "            if (count > 350):\n",
    "                print('Pagetitle:', p_2[i],'-',count)\n",
    "            count = 1  "
   ]
  },
  {
   "cell_type": "code",
   "execution_count": 43,
   "metadata": {},
   "outputs": [
    {
     "name": "stdout",
     "output_type": "stream",
     "text": [
      "Pagetitle: Abdul Khaliq (athlete) - 386\n",
      "Pagetitle: Death of Adrian Donohoe - 371\n",
      "Pagetitle: Draft:Kosi (spiritual teacher) - 467\n",
      "Pagetitle: Gellerup - 405\n",
      "Pagetitle: List of Twenty20 International records - 416\n",
      "Pagetitle: Maciek Pysz - 417\n",
      "Pagetitle: Stephen Jerzak - 496\n",
      "Pagetitle: Talk:List of metro systems - 368\n",
      "Pagetitle: Talk:Star Trek Into Darkness - 405\n",
      "Pagetitle: Template:DRN case status - 500\n",
      "Pagetitle: The Yale Record - 424\n",
      "Pagetitle: User:AJGI90 - 499\n",
      "Pagetitle: User:AniteSpike/sandbox - 447\n",
      "Pagetitle: User:Bensonfood - 364\n",
      "Pagetitle: User:Dr.Gulliver/sandbox/Alexander Selkirk - 407\n",
      "Pagetitle: User:Maria roswitha wagner - 478\n",
      "Pagetitle: User:Meyank Deonie/sandbox - 353\n",
      "Pagetitle: User:Ollie231213 - 383\n",
      "Pagetitle: User:Orthodox2014/sandbox - 368\n",
      "Pagetitle: User:TrystynAlxander - 357\n",
      "Pagetitle: USS PC-598 - 480\n",
      "Pagetitle: Wikipedia:Administrator intervention against vandalism - 548\n",
      "Pagetitle: Wikipedia:Help desk - 388\n",
      "Pagetitle: Wikipedia:Sandbox - 560\n",
      "Pagetitle: Wikipedia:Teahouse/Questions - 1207\n"
     ]
    }
   ],
   "source": [
    "use_1()"
   ]
  },
  {
   "cell_type": "code",
   "execution_count": 293,
   "metadata": {},
   "outputs": [
    {
     "data": {
      "text/plain": [
       "0.20014701825830944"
      ]
     },
     "execution_count": 293,
     "metadata": {},
     "output_type": "execute_result"
    }
   ],
   "source": [
    "kmodel.similarity('aids','automatically')"
   ]
  },
  {
   "cell_type": "code",
   "execution_count": 296,
   "metadata": {},
   "outputs": [
    {
     "data": {
      "image/png": "[encoded data removed]",
      "text/plain": [
       "<matplotlib.figure.Figure at 0x1bbdd5caeb8>"
      ]
     },
     "metadata": {},
     "output_type": "display_data"
    }
   ],
   "source": [
    "b =[[1,0.089,0.025,-0.069,0.16,0.17,0.37,0.017,0.089,0.089,0.065,-0.004,0.19,0.077,0.028,0.008,0.066],\n",
    "   [0.089,1,0.16,0.11,0.074,-0.011,0.081,0.039,1,1,0.29,0.058,0.37,0.49,0.26,0.11,0.072],\n",
    "   [0.025,0.16,1,0.084,0.086,-0.0073,-0.022,0.027,0.164,0.164,0.081,0.009,0.23,0.19,0.116,0.023,0.12],\n",
    "   [-0.07,0.106,0.083,1,0.018,-0.0094,-0.0037,0.014,0.106,0.106,0.027,0.139,0.097,0.019,0.008,0.03,0.07],\n",
    "   [0.16,0.074,0.087,0.018,1,0.079,0.102,0.17,0.074,0.074,0.064,0.093,-0.007,0.034,0.0008,0.069,0.108],\n",
    "   [0.17,-0.011,-0.007,-0.0094,0.079,1,0.548,-0.02,-0.01,-0.01,0.079,0.025,0.13,0.013,0.036,0.019,0.017],\n",
    "   [0.365,0.08,-0.022,-0.0037,0.102,0.548,1,-0.011,0.08,0.08,0.091,0.0004,0.25,-0.016,0.012,0.038,-0.03],\n",
    "   [0.017,0.039,0.027,0.014,0.166,-0.02,-0.011,1,0.038,0.038,0.038,0.15,0.0092,-0.015,-0.018,0.22,0.34],\n",
    "   [0.089,1,0.16,0.105,0.074,-0.011,0.081,0.038,1,1,0.29,0.057,0.37,0.488,0.26,0.11,0.071],\n",
    "   [0.089,1,0.16,0.105,0.074,-0.011,0.081,0.038,1,1,0.29,0.057,0.37,0.488,0.26,0.11,0.071],\n",
    "   [0.064,0.299,0.0811,0.027,0.064,0.078,0.091,0.038,0.299,0.299,1,0.06,0.192,0.29,0.06,0.087,0.06],\n",
    "   [-0.004,0.057,0.009,0.139,0.09,0.025,0.00046,0.15,0.057,0.057,0.06,1,0.05,0.047,0.025,0.057,0.133],\n",
    "   [0.187,0.37,0.22,0.097,-0.006,0.13,0.25,0.0092,0.37,0.37,0.19,0.05,1,0.3,0.11,-0.04,0.15],\n",
    "   [0.077,0.488,0.19,-0.047,0.034,0.013,-0.017,-0.015,0.488,0.488,0.29,0.048,0.3,1,0.12,0.072,0.15],\n",
    "   [0.027,0.26,0.11,0.008,0.0008,0.036,0.011,-0.018,0.26,0.26,0.06,0.026,0.107,0.12,1,0.06,0.048],\n",
    "   [0.0075,0.11,0.022,0.03,0.069,0.019,0.037,0.22,0.11,0.11,0.087,0.057,-0.043,0.072,0.06,1,0.2],\n",
    "   [0.066,0.071,0.12,0.07,0.11,0.017,-0.03,0.34,0.07,0.07,0.06,0.133,0.15,0.15,0.048,0.2,1]\n",
    "   ]\n",
    "\n",
    "xlabels=['p1','p2','p3','p4','p5','p6','p7','p8','p9','p10','p11','p12','p13','p14','p15','p16','p17','p18','p19','p20']\n",
    "\n",
    "ylabels=['p1','p2','p3','p4','p5','p6','p7','p8','p9','p10','p11','p12','p13','p14','p15','p16','p17','p18','p19','p20']\n",
    "\n",
    "draw_heatmap(b,xlabels,ylabels)"
   ]
  }
 ],
 "metadata": {
  "kernelspec": {
   "display_name": "Python 3",
   "language": "python",
   "name": "python3"
  },
  "language_info": {
   "codemirror_mode": {
    "name": "ipython",
    "version": 3
   },
   "file_extension": ".py",
   "mimetype": "text/x-python",
   "name": "python",
   "nbconvert_exporter": "python",
   "pygments_lexer": "ipython3",
   "version": "3.6.4"
  }
 },
 "nbformat": 4,
 "nbformat_minor": 2
}
